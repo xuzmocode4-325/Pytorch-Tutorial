{
 "cells": [
  {
   "cell_type": "markdown",
   "metadata": {},
   "source": [
    "# Deep Understanding of Deep Learning\n"
   ]
  },
  {
   "cell_type": "markdown",
   "metadata": {},
   "source": [
    "## Linear Regression Theory\n",
    "\n",
    "$ Y = a + b(X) + e $\n",
    "\n",
    "$Y$: response variable  \n",
    "$X$: predictor variable  \n",
    "$a$: intercept  \n",
    "$b$: slope  \n",
    "$e$: error  \n",
    "\n",
    "**Odinary Least Squares (OLS):** The best fit for a regression line can be found by minimizing the sum of the squares of the residual for each observed data point.  \n",
    "\n",
    "**Null Hypothesis (H0):** $Y$ is independant of $X$ ( Change in $Y$ is not related to Change in $X$ ) `Slope` ( $b$ ) `is 0`.  \n",
    "\n",
    "**Simple Linear Regression:** Modelling the quantitative dependancey between one $Y$ and one $X$. \n",
    "\n",
    "**Multiple Linear Regression:** Modelling quantitative dependancy between one $Y$ and multiple predictor variables ( $X$ values ).\n",
    "\n",
    "\n",
    "### Calculating Slope  \n",
    "\n",
    "$b = \\frac{SS_{xy}}{SS_{x}}$\n",
    "\n",
    "**Sum of Squares** $SS_{x}$ :  $\\Sigma(x_{i} - \\bar{x})^{2}$  \n",
    "\n",
    "**Sums of Products** $SS_{xy}$ : $\\Sigma(x - \\bar{x})(y - \\bar{y})$  \n",
    "( measure of covariation between $x$ and $y$ )\n",
    "\n",
    "\n",
    "### Evaluating The Model\n",
    "\n",
    "$R^{2}$ (ranging between 0 to 1) is used to evaluate model performance.   \n",
    "An $R^{2}$ value close to `1` is a good fit.  \n",
    "An $R^{2}$ value close to `0` is a bad fit.  \n",
    "\n",
    "The `p-value of slope` can be used to evaluate whether the model is a useful representation of the relationship between $X$ and $Y$ or not.   \n",
    "A `p-value` of `<0.05` indicates that the model is a useful representation.\n",
    "\n"
   ]
  },
  {
   "cell_type": "markdown",
   "metadata": {},
   "source": [
    "## Linear Regression Theory Continued\n",
    "\n",
    "The easiest way to solve a regression problem is to introduce a constant term `m0` with bias (usually `1`) to create a loss function:\n",
    "\n",
    "$ y = m\\downarrow 0  + b+m\\downarrow 1 x$  \n",
    "$ y = m_{0} b + m_{1x}$ \n",
    "\n",
    "This equation, known as the hypothesis **$h$** function maps an input $x$ to an output $y$.\n",
    "\n",
    "**The cost function is used to:**\n",
    "- measure residuals to find if an algorithm is giving the right predictions\n",
    "- determing if the parameters of an algorithm are good enough to make accurate predictions\n",
    "\n",
    "### Different Types of Cost Error\n",
    "\n",
    "#### Mean Absolute Error (MAE) or L1 Loss\n",
    "\n",
    "$$\n",
    "\\frac{\\Sigma^{n}_{i=1}|y_{i}-\\hat{y}_{i}|}{n}\n",
    "$$ \n",
    "- Calculates the absolute differences between predicted and actual values\n",
    "- Is more robust to outliers compared to L2 loss since it treats all errors equally\n",
    "- Useful for when a dataset contains a significant amount of outliers that could skew data\n",
    "- Encourages sparsity in the model coefficients effectively driving some weights to zero\n",
    "- Is advantageous for models where interpretability and feature selection are critical\n",
    "- Commonly used in Lasso regression and for feature selection\n",
    "\n",
    "#### Mean Squared Error (MSE) or L2 Loss\n",
    "$$\n",
    "\\frac{\\Sigma^{n}_{i=1}(y_{i}-\\hat{y}_{i})_{2}}{n}\n",
    "$$\n",
    "- Calculates the squared differences between the predicted and actual values\n",
    "- Is more sensitive to outliers because it squares the errors amplifying larger discrepancies\n",
    "- It's sensitivity to ouliers could lead the model to overfitting datasets with extreme values\n",
    "- Generally leads to more stable models as it minimizes varience\n",
    "- Can introduce higer bias due to its tendancy to retain all features\n",
    "- Used in Ridge regression and Support Vector Machines\n",
    "- Preferred in contexts where all features are believed to contribute valualble information\n",
    "\n",
    "\n",
    "The goal is to choose weights for our regression model in such a way that value of our cost function is at minimum.   \n",
    "This goal can be achieved using `Gradient Descent`. "
   ]
  },
  {
   "cell_type": "markdown",
   "metadata": {},
   "source": [
    "## Generalized Linear Modesl (GLMS)\n",
    "\n",
    "GLMs are flexible generalizations of ordinary linear regression. GLMs are used to explain non-normal response data using explanatory variables. Example use cases inlcude:  \n",
    "- Proportions (infection rates, survival rates).\n",
    "- Count data (insects on a leaf, trees in a plot).\n",
    "- Binary responses (present / absent; dead / alive)\n",
    "\n",
    "### Generalized Linear Model Equation\n",
    "$y_{ijk} = a + b_{1} x_{1} + b_{2} x_{2} + b_{3 }x_{1} x_{2} + e_{ijk}$\n",
    "\n",
    "\n",
    "GLMs are used for understanding what external influences (proxy being independant variables) drive chang in the response variable.  \n",
    "GLMs generalize linear regression by allowing the linear model to be related to the response variable via a link function.  \n",
    "Non-normal error structures can be included.  \n",
    "Residual distirbutions / error structres (e.g Gaussian, Poisson, Binomial and Gamma) of  the variable $Y$ form the exponential family can be considered within the GLM framework.  \n",
    "A link funtion is used which is a transformation of Y used to linearize its values.  \n",
    "\n",
    "$\\eta_{i} = g(y_{i})$ \n",
    "\n",
    "The linear predictor of predictor variables, $X_{j}$ , to regress against the transformed response. \n",
    "\n",
    "$\\eta = a + b_{1}x_{1} + b_{2}x_{2}$\n",
    "\n",
    "| Error | Link | Link Function|\n",
    "------|----|-------------|\n",
    "| Gaussian | Identity | $\\eta = y$ |\n",
    "| Poisson | Log | $\\eta = ln(y)$ |\n",
    "| Binomial | Logit | $\\eta = ln(p / (1 -p))$ |\n",
    "\n",
    "\n",
    "$\\eta$ is unbounded and can take any value from $+\\infty$ to $-\\infty$.\n",
    "\n",
    "### Example GLMs\n",
    "\n",
    "**Logistic regression:** Used for binary response variables (0 or 1) where the error structure is assumed to be binomial.  \n",
    "**Poisson Regression:** Used for count data where the error structure is assumed to be Poisson.\n",
    "\n",
    "\n"
   ]
  },
  {
   "cell_type": "markdown",
   "metadata": {},
   "source": [
    "## Artificial Neural Networks\n",
    "\n",
    "\n",
    "Artificial Neural Networks work well for solving non-linear prediction problems.   \n",
    "\n",
    "The basic structure of how deep learning models work is:   \n",
    "\n",
    "$input \\longrightarrow \\boxed{ Mystery }  \\longrightarrow output$\n",
    "\n",
    "| Data Type | Model Type |  \n",
    "------|----|\n",
    "| Tabular | ANN |\n",
    "| Image | CNN | \n",
    "| Time Series or Sequential (Natural Language) | RNN | \n",
    "\n",
    "\n",
    "Artificial neural networks are powered by multiple compononents called \"Artificial Neurons\". \n",
    "\n",
    "\n",
    "Linear *\"Artifical \"Neuron\"*   \n",
    "$\\hat{y} = x_{i}w_{i} + x_{2}w_{2}$    \n",
    "\n",
    "Non-Linear *\"Artificial Neuron\"*   \n",
    "$\\hat{y} = \\sigma(x_{i}w_{i} + x_{2}w_{2})$ \n",
    "\n",
    "$\\hat{y}$ is the output.\n",
    "\n",
    "$\\sigma$ is a non-linear activation function.\n",
    "\n",
    "$x_{i}$ represents a variable. \n",
    "\n",
    "$w_{i}$ represents a weight corresponding to a variable.\n",
    "\n",
    "### How Neural Networks Operate\n",
    "\n",
    "Artificial Neural Netoworks operate by iteratively:\n",
    "1. Calculating an output (forward propagation)\n",
    "2. Checking the output for acuracy. \n",
    "3. Adjusting model weights (backpropagation) for improved accuracy. \n"
   ]
  },
  {
   "cell_type": "markdown",
   "metadata": {},
   "source": [
    "## Dot Product\n",
    "\n",
    "The dot product is one of the most important mathematical operations in deep learning.  \n",
    "There are different notations for the dot product operation. \n",
    "\n",
    "$$\n",
    "    \\alpha = a \\cdot b = \\langle a,b \\rangle = a^{T}b = \\sum_{i=1}^{n} a_{i} b_{i}\n",
    "$$\n",
    "\n",
    "#### For Example:\n",
    "\n",
    "$$\n",
    "\\mathbf{v} = \\begin{bmatrix} 1 \\\\ 2 \\\\ 0 \\\\ 5 \\\\ 0  \\\\ -2 \\end{bmatrix}  \n",
    "\\mathbf{w} = \\begin{bmatrix} 2 \\\\ 8 \\\\ -6 \\\\ 1 \\\\ 1  \\\\ 0 \\end{bmatrix}\n",
    "$$\n",
    "\n",
    "$\\mathbf{v}^{T}\\mathbf{w} = 1 * 2 + 2 * 8 + 0 * (-6) + 5 * 1 + 0 * 1 + (-2) * 0$  \n",
    "    $ = 2 + 16 + 5$  \n",
    "    $ = 23 $  \n",
    "\n",
    "\n",
    "### Interpretation of the Dot Product\n",
    "\n",
    "The dot product is always computed between vectors, matrices and tensors of the same shape.  \n",
    "The dot product computation always results in one number.   \n",
    "The dot product reflects the commonalities between two objects.   \n",
    "The dot product is effectively a correlation coefficient between two variables. "
   ]
  },
  {
   "cell_type": "markdown",
   "metadata": {},
   "source": [
    "## Dot Product Computation In Python"
   ]
  },
  {
   "cell_type": "code",
   "execution_count": 112,
   "metadata": {},
   "outputs": [],
   "source": [
    "import numpy as np\n",
    "import torch\n"
   ]
  },
  {
   "cell_type": "code",
   "execution_count": 113,
   "metadata": {},
   "outputs": [
    {
     "name": "stdout",
     "output_type": "stream",
     "text": [
      "-2\n",
      "-2\n"
     ]
    }
   ],
   "source": [
    "# example dot product operations\n",
    "\n",
    "nv1 = np.array([1, 2, 3, 4])\n",
    "nv2 = np.array([0, 1, 0, -1])\n",
    "\n",
    "# dor product via function\n",
    "print(np.dot(nv1, nv2))\n",
    "\n",
    "# dot product via computation\n",
    "print(np.sum(nv1 * nv2) ) # multiplying two vectors and summing the result\n"
   ]
  },
  {
   "cell_type": "code",
   "execution_count": 114,
   "metadata": {},
   "outputs": [
    {
     "name": "stdout",
     "output_type": "stream",
     "text": [
      "tensor(-2)\n",
      "tensor(-2)\n"
     ]
    }
   ],
   "source": [
    "tv1 = torch.tensor([1, 2, 3, 4])\n",
    "tv2 = torch.tensor([0, 1, 0, -1])\n",
    "\n",
    "print(torch.dot(tv1, tv2))\n",
    "print(torch.sum(tv1 * tv2))"
   ]
  },
  {
   "cell_type": "markdown",
   "metadata": {},
   "source": [
    "## Matrix Multiplication\n",
    "\n",
    "### Rules of Validity\n",
    "\n",
    "Matrices have rows and columns.\n",
    "\n",
    "Matrix multiplication is valid for two matrices, $A$ & $B$ if the number of columns of $A$ is equal to the number of rows of $B$.  \n",
    "\n",
    "For $A_{m \\times n}$ and $B_{n \\times p}$ where $m$ is the number of rows and $n$ is the number of columns, for matrix multiplication to be valid, $A_{n}$ must be equal length to $B_{m}$.\n",
    "\n",
    "The relationship between the columns of $A$ and rows of $B$ is referred to as the \"inner dimensions.\"  \n",
    "\n",
    "When two matrices have the same dimensions (shape), if $m ≠ n$,  for matrix multiplication to be valid, one of the matrices must be transposed.  \n",
    "\n",
    "Matrix multiplication is valid when two matrices have matching \"inner dimensions.\"\n",
    "\n",
    "\n",
    "### Matrix Multiplication as Ordered Dot Products\n",
    "\n",
    "The result of a valid matrix multiplication will have a shape that is the size of the outer dimensions of the matrix pair. \n",
    "\n",
    "For matrix $A_{mn}$ and $B_{pq}$ where $n =  p$ the resulting $C$ matrix will have a size of $m \\times q$ i.e $C_{mq}$.\n",
    "\n"
   ]
  },
  {
   "cell_type": "markdown",
   "metadata": {},
   "source": [
    "## Matrix Multiplication in Python "
   ]
  },
  {
   "cell_type": "code",
   "execution_count": 115,
   "metadata": {},
   "outputs": [],
   "source": [
    "import numpy as np"
   ]
  },
  {
   "cell_type": "markdown",
   "metadata": {},
   "source": [
    "Matrix multiplication is valid for $V$ and $W$ because $V$ has 2 columns and $W$ has 2 rows.\n",
    "\n",
    "$$\n",
    "V = \\begin{bmatrix} 1 & 2 \\\\ 3 & 4 \\end{bmatrix}, \\quad W = \\begin{bmatrix} 5 & 3 \\\\ 7 & 4 \\end{bmatrix}\n",
    "$$\n"
   ]
  },
  {
   "cell_type": "code",
   "execution_count": 116,
   "metadata": {},
   "outputs": [
    {
     "name": "stdout",
     "output_type": "stream",
     "text": [
      "AB,the result of multiplying A and B is 2 x 2 in shape.\n",
      "\n",
      "[[19 11]\n",
      " [43 25]]\n"
     ]
    }
   ],
   "source": [
    "# Creating 2 x 2 arrays with random values\n",
    "\n",
    "A = np.array([[1, 2], [3, 4]])\n",
    "B = np.array([[5, 3], [7, 4]])\n",
    "#print(\"A and B are both 2x2 arrays\", f\"A \\n{A}\",  f\"B \\n{B}\", sep=\"\\n\\n\")\n",
    "\n",
    "# Performing matrix multiplication on two 2 x 2 arrays usings the @ shorthand\n",
    "\n",
    "AB = A@B # Matrix multiplications can also be performed using np.matmul(A, B)\n",
    "\n",
    "print(f\"AB,the result of multiplying A and B is {AB.shape[0]} x {AB.shape[1]} in shape.\", f\"{AB}\", sep=\"\\n\\n\")\n"
   ]
  },
  {
   "cell_type": "markdown",
   "metadata": {},
   "source": [
    "Matrix multiplication is valid for $Q$ and $R$ because $Q$ has 4 columns and $R$ has 4 rows.\n",
    "\n",
    "$$\n",
    "Q = \\begin{bmatrix} 1 & 2 \\\\ 3 & 4 \\\\ 5 & 6 \\\\ 7 & 8 \\end{bmatrix}, \\quad R = \\begin{bmatrix} 5 & 3 & 7 & 9 \\\\ 7 & 4 & 5 & 3 \\end{bmatrix}\n",
    "$$"
   ]
  },
  {
   "cell_type": "code",
   "execution_count": 117,
   "metadata": {},
   "outputs": [
    {
     "name": "stdout",
     "output_type": "stream",
     "text": [
      "QR, the result of multiplying Q and R is 4 x 4 in shape.\n",
      "\n",
      "[[ 19  11  17  27]\n",
      " [ 43  25  41  63]\n",
      " [ 67  39  65  99]\n",
      " [ 91  53  89 135]]\n"
     ]
    }
   ],
   "source": [
    "# Performing matrix multiplication on two arrays of dims  2 x 4 (Q) and 4 x 2 (R)\n",
    "\n",
    "Q = np.array([[1, 2], [3, 4], [5, 6], [7, 8]])\n",
    "R = np.array([[5, 3, 7, 9], [7, 4, 5, 9]])\n",
    "\n",
    "#print(f\"Q is a 4 x 2 array \\n{Q}\",  f\"R is a 2 x 4 array \\n {R}\", sep=\"\\n\\n\")\n",
    "\n",
    "QR = Q@R\n",
    "\n",
    "print(f\"QR, the result of multiplying Q and R is {QR.shape[0]} x {QR.shape[1]} in shape.\", f\"{QR}\", sep=\"\\n\\n\")\n"
   ]
  },
  {
   "cell_type": "markdown",
   "metadata": {},
   "source": [
    "\n",
    "Matrix multiplication between $O$ and $P$ is not valid because $O$ has 3 columns and $P$ has 4 rows.\n",
    "\n",
    "$$\n",
    "O = \\begin{bmatrix} 1 & 2 & 3 & 4 \\\\ 3 & 4 & 5 & 6 \\\\ 5 & 6 & 7 & 8 \\end{bmatrix}, \\quad P = \\begin{bmatrix} 5 & 3 & 7 & 9 \\\\ 7 & 4 & 5 & 3 \\\\ 9 & 7 & 4 & 3 \\end{bmatrix}\n",
    "$$"
   ]
  },
  {
   "cell_type": "code",
   "execution_count": 118,
   "metadata": {},
   "outputs": [],
   "source": [
    "O = np.array([[1, 2, 3, 4], [3, 4, 5, 6], [5, 6, 7, 8]])\n",
    "P = np.array([[5, 3, 7, 9], [7, 4, 5, 3], [9, 7, 4, 3]])\n",
    "\n",
    "#OP = O@P Produces a value error\n"
   ]
  },
  {
   "cell_type": "markdown",
   "metadata": {},
   "source": [
    "Matrix multiplication between $O^T$ and $P$ is possible because once transposed, $O^T$ has 4 columns, matching the 4 rows of $P$.\n",
    "\n",
    "$$\n",
    "O^T = \\begin{bmatrix} 1 & 3 & 5 \\\\ 2 & 4 & 6 \\\\ 3 & 5 & 7 \\\\ 4 & 6 & 8 \\end{bmatrix}, \\quad P = \\begin{bmatrix} 5 & 3 & 7 & 9 \\\\ 7 & 4 & 5 & 3 \\\\ 9 & 7 & 4 & 3 \\end{bmatrix}\n",
    "$$"
   ]
  },
  {
   "cell_type": "code",
   "execution_count": 119,
   "metadata": {},
   "outputs": [
    {
     "name": "stdout",
     "output_type": "stream",
     "text": [
      "OtP, the result of multiplying O transpose and P is 4 x 4 in shape.\n",
      "\n",
      "[[ 71  50  42  33]\n",
      " [ 92  64  58  48]\n",
      " [113  78  74  63]\n",
      " [134  92  90  78]]\n"
     ]
    }
   ],
   "source": [
    "OtP = O.T@P\n",
    "\n",
    "print(f\"OtP, the result of multiplying O transpose and P is {OtP.shape[0]} x {OtP.shape[1]} in shape.\", f\"{OtP}\", sep=\"\\n\\n\")"
   ]
  },
  {
   "cell_type": "markdown",
   "metadata": {},
   "source": [
    "Matrix multiplication between $S$ and $T$ is not valid, even after transposing either of the matrices because none of the dimensions are compatible.\n",
    "\n",
    "$$\n",
    "S = \\begin{bmatrix} 1 & 3 & 5 \\\\ 2 & 4 & 6 \\end{bmatrix}, \\quad T = \\begin{bmatrix} 5 & 3 & 7 & 9 \\\\ 7 & 4 & 5 & 3 \\\\ 9 & 7 & 4 & 3 \\\\ 3 & 7 & 5 & 4 \\end{bmatrix}\n",
    "$$"
   ]
  },
  {
   "cell_type": "code",
   "execution_count": 120,
   "metadata": {},
   "outputs": [],
   "source": [
    "S = np.array([[1, 3, 5], [2, 4, 6], [3, 6, 9]])\n",
    "T = np.array([[5, 3, 7, 9], [7, 4, 5, 3], [9, 7, 4, 3], [3, 7, 5, 4]])\n",
    "\n",
    "#ST = S@T Produces a value error\n",
    "#StT = S.T@T Produces a valure error"
   ]
  },
  {
   "cell_type": "markdown",
   "metadata": {},
   "source": [
    "## Softmax\n",
    "\n",
    "### The Natural Expoential Function\n",
    "\n",
    "The natural exponent function is denoted as $f(x) = e^{x}$.  \n",
    "The natural exponent function is it's own derivative $f'(x) = e^{x}$.  \n",
    "The natural exponential function is the foundation of natural logarithms. If $y = e^{x}$, then $x = ln(y)$  \n",
    "The value of the natural exponential function when $x = 0$ is 1.  $f(0) = e^{0} = 1$\n",
    "The natural exponent function is always positive. \n",
    "\n",
    "\n",
    "$e$ is Euler's number\n",
    "$ e = 2.7182...$    \n",
    "$e$ is a constant and a scalar value.   \n",
    "$e$ is an irrational number.\n",
    "\n",
    "### Mathemetical Definitions of $e$\n",
    "\n",
    "1. The Limit Definition:  $e = lim_{n\\to \\infty}(1 + \\frac{1}{n})^{n}$\n",
    "2. Series Definition: $e = \\Sigma^{\\infty}_{n=0} = 1 + \\frac{1}{1!} + \\frac{1}{2!} + \\frac{1}{3!} + ...$"
   ]
  },
  {
   "cell_type": "markdown",
   "metadata": {},
   "source": [
    "### Plotting The Natural Exponent"
   ]
  },
  {
   "cell_type": "code",
   "execution_count": 121,
   "metadata": {},
   "outputs": [],
   "source": [
    "import numpy\n",
    "import matplotlib.pyplot as plt"
   ]
  },
  {
   "cell_type": "code",
   "execution_count": 122,
   "metadata": {},
   "outputs": [
    {
     "data": {
      "text/plain": [
       "[<matplotlib.lines.Line2D at 0x16970e3d0>]"
      ]
     },
     "execution_count": 122,
     "metadata": {},
     "output_type": "execute_result"
    },
    {
     "data": {
      "image/png": "[encoded data removed]",
      "text/plain": [
       "<Figure size 800x500 with 1 Axes>"
      ]
     },
     "metadata": {},
     "output_type": "display_data"
    }
   ],
   "source": [
    "a = np.linspace(-10, 10, 200)\n",
    "exp = np.exp(a)\n",
    "\n",
    "fig, ax = plt.subplots(figsize=(8, 5))\n",
    "ax.set_title('Natural Exponent Graph')\n",
    "ax.set_xlabel('x')\n",
    "ax.set_ylabel('f(x)')\n",
    "ax.plot(a, exp)\n",
    "\n"
   ]
  },
  {
   "cell_type": "markdown",
   "metadata": {},
   "source": [
    "### The Natural Exponent in Machine Learning\n",
    "\n",
    "The natural exponent function is used in a softmax function in order to generate probabilities.   \n",
    "What makes the natural exponent useful for softmax computations is its values are always non negative.  \n",
    "Probabilites too must always be non negative. \n",
    "\n",
    "### The Softmax Formula\n",
    "\n",
    "$$ \\sigma_{i} = \\frac{e^{z_{i}}}{\\Sigma{e^{z}}}$$\n",
    "\n",
    "- In a set of numbers ( $z$ ) \n",
    "- The softmax value for any element ( $\\sigma_{i}$ ) \n",
    "- Is equivalent to the exponential of the element ( $e^{z_{i}}$ )\n",
    "- Divided by the sum of the exponientials of the whole set ( $\\Sigma e^{z}$  )\n",
    "\n",
    "\n",
    "$z = \\{1, 2, 3\\}$  \n",
    "$e^{z} = \\{2.72, 7.39, 20.01\\}$  \n",
    "$\\Sigma e^{z}$ = 30.19\n",
    "$\\sigma = \\{0.09, 0.24, 0.67\\}$\n",
    "\n",
    "\n",
    "### How It Works\n",
    "- **Exponentiation**: Each score in the input vector is exponentiated, which ensures that all output values are positive.\n",
    "- **Normalization**: Each exponentiated value is divided by the sum of all exponentiated values. \n",
    "\n",
    "This normalization step guarantees that the output values lie between 0 and 1 and sum to 1, thus forming a valid probability distribution.\n",
    "\n",
    "\n",
    "### The Role of Softmax in Deep Learning\n",
    "\n",
    "The softmax function is commonly used in machine learning, particularly in the context of classification tasks involving multiple classes. \n",
    "It transforms a vector of raw scores (also known as logits) into a probability distribution, making it useful for interpreting the outputs of neural networks.\n",
    "\n",
    "$$\n",
    "\\begin{bmatrix}\n",
    "\\ output_{1} \\\\ \\vdots \\\\\n",
    "\\ output_{n}\n",
    "\\end{bmatrix}\n",
    "\\longrightarrow\n",
    "\\begin{bmatrix}\n",
    "\\ Softmax \n",
    "\\end{bmatrix}\n",
    "\\longrightarrow\n",
    "\\begin{bmatrix}\n",
    "\\ p(output_{1}) \\\\ \\vdots \\\\\n",
    "\\ p(output_{n})\n",
    "\\end{bmatrix}\n",
    "$$\n",
    "\n",
    "\n",
    "### Applications\n",
    "The softmax function is primarily used in:\n",
    "- Multi-class classification: It is often applied in the final layer of neural networks to classify inputs into one of several categories (e.g., image recognition, sentiment analysis).\n",
    "- Probabilistic interpretation: By converting raw outputs into probabilities, it enhances interpretability and decision-making based on model outputs.\n",
    "\n",
    "### Advantages and Limitations\n",
    "\n",
    "#### Advantages\n",
    "- Provides a well-defined probability distribution for each class.\n",
    "- Facilitates easier understanding and analysis of model predictions.\n",
    "- Exhibits good numerical stability during training.\n",
    "\n",
    "#### Limitations\n",
    "- Susceptible to the vanishing gradient problem during backpropagation, which can slow down learning due to small gradients."
   ]
  },
  {
   "cell_type": "markdown",
   "metadata": {},
   "source": [
    " ### Computing Softmax Using Python\n",
    " #### Manual Computation"
   ]
  },
  {
   "cell_type": "code",
   "execution_count": 123,
   "metadata": {},
   "outputs": [],
   "source": [
    "import numpy as np\n",
    "import pandas as pd\n",
    "import matplotlib.pyplot as plt\n"
   ]
  },
  {
   "cell_type": "code",
   "execution_count": 124,
   "metadata": {},
   "outputs": [
    {
     "name": "stdout",
     "output_type": "stream",
     "text": [
      "Denomenator:  34843.77 Softmax Sum:  1.0\n"
     ]
    },
    {
     "data": {
      "text/html": [
       "<div>\n",
       "<style scoped>\n",
       "    .dataframe tbody tr th:only-of-type {\n",
       "        vertical-align: middle;\n",
       "    }\n",
       "\n",
       "    .dataframe tbody tr th {\n",
       "        vertical-align: top;\n",
       "    }\n",
       "\n",
       "    .dataframe thead th {\n",
       "        text-align: right;\n",
       "    }\n",
       "</style>\n",
       "<table border=\"1\" class=\"dataframe\">\n",
       "  <thead>\n",
       "    <tr style=\"text-align: right;\">\n",
       "      <th></th>\n",
       "      <th>Input</th>\n",
       "      <th>Exponential</th>\n",
       "      <th>Softmax</th>\n",
       "    </tr>\n",
       "  </thead>\n",
       "  <tbody>\n",
       "    <tr>\n",
       "      <th>0</th>\n",
       "      <td>1.0</td>\n",
       "      <td>2.718282</td>\n",
       "      <td>0.000078</td>\n",
       "    </tr>\n",
       "    <tr>\n",
       "      <th>1</th>\n",
       "      <td>2.0</td>\n",
       "      <td>7.389056</td>\n",
       "      <td>0.000212</td>\n",
       "    </tr>\n",
       "    <tr>\n",
       "      <th>2</th>\n",
       "      <td>3.0</td>\n",
       "      <td>20.085537</td>\n",
       "      <td>0.000576</td>\n",
       "    </tr>\n",
       "    <tr>\n",
       "      <th>3</th>\n",
       "      <td>4.0</td>\n",
       "      <td>54.598150</td>\n",
       "      <td>0.001567</td>\n",
       "    </tr>\n",
       "    <tr>\n",
       "      <th>4</th>\n",
       "      <td>5.0</td>\n",
       "      <td>148.413159</td>\n",
       "      <td>0.004259</td>\n",
       "    </tr>\n",
       "    <tr>\n",
       "      <th>5</th>\n",
       "      <td>6.0</td>\n",
       "      <td>403.428793</td>\n",
       "      <td>0.011578</td>\n",
       "    </tr>\n",
       "    <tr>\n",
       "      <th>6</th>\n",
       "      <td>7.0</td>\n",
       "      <td>1096.633158</td>\n",
       "      <td>0.031473</td>\n",
       "    </tr>\n",
       "    <tr>\n",
       "      <th>7</th>\n",
       "      <td>8.0</td>\n",
       "      <td>2980.957987</td>\n",
       "      <td>0.085552</td>\n",
       "    </tr>\n",
       "    <tr>\n",
       "      <th>8</th>\n",
       "      <td>9.0</td>\n",
       "      <td>8103.083928</td>\n",
       "      <td>0.232555</td>\n",
       "    </tr>\n",
       "    <tr>\n",
       "      <th>9</th>\n",
       "      <td>10.0</td>\n",
       "      <td>22026.465795</td>\n",
       "      <td>0.632149</td>\n",
       "    </tr>\n",
       "  </tbody>\n",
       "</table>\n",
       "</div>"
      ],
      "text/plain": [
       "   Input   Exponential   Softmax\n",
       "0    1.0      2.718282  0.000078\n",
       "1    2.0      7.389056  0.000212\n",
       "2    3.0     20.085537  0.000576\n",
       "3    4.0     54.598150  0.001567\n",
       "4    5.0    148.413159  0.004259\n",
       "5    6.0    403.428793  0.011578\n",
       "6    7.0   1096.633158  0.031473\n",
       "7    8.0   2980.957987  0.085552\n",
       "8    9.0   8103.083928  0.232555\n",
       "9   10.0  22026.465795  0.632149"
      ]
     },
     "execution_count": 124,
     "metadata": {},
     "output_type": "execute_result"
    }
   ],
   "source": [
    "z = np.arange(1,11) # an arry of values from 1 - 10\n",
    "\n",
    "# computing the softmax\n",
    "nums = np.exp(z) # calculating the exponential for each value in z\n",
    "den = nums.sum() # adding all the exponentials for the denominator\n",
    "sigma = nums / den # calculating the softmax for each value of z\n",
    "\n",
    "table = np.array([z, nums, sigma])\n",
    "\n",
    "frame = pd.DataFrame(table.T, columns=['Input', 'Exponential', 'Softmax'])\n",
    "print('Denomenator: ', np.round(den, 2), 'Softmax Sum: ', sigma.sum())\n",
    "frame\n",
    "\n",
    "\n"
   ]
  },
  {
   "cell_type": "code",
   "execution_count": 125,
   "metadata": {},
   "outputs": [
    {
     "data": {
      "text/plain": [
       "<matplotlib.collections.PathCollection at 0x1698b84d0>"
      ]
     },
     "execution_count": 125,
     "metadata": {},
     "output_type": "execute_result"
    },
    {
     "data": {
      "image/png": "[encoded data removed]",
      "text/plain": [
       "<Figure size 800x500 with 1 Axes>"
      ]
     },
     "metadata": {},
     "output_type": "display_data"
    }
   ],
   "source": [
    "x = np.linspace(-10, 11, 30)\n",
    "\n",
    "\n",
    "# computing the softmax result\n",
    "num = np.exp(x)\n",
    "den = np.sum(num)\n",
    "sigma = num /den\n",
    "\n",
    "# compare \n",
    "\n",
    "fig, ax = plt.subplots(figsize=(8, 5))\n",
    "ax.set_xlabel('Input')\n",
    "ax.set_ylabel('Softmax Output')\n",
    "ax.set_title(f'Softmax Graph $\\sum\\sigma=$ {np.round(sigma.sum())}')\n",
    "ax.set_yscale('log')\n",
    "ax.scatter(x, sigma)"
   ]
  },
  {
   "cell_type": "markdown",
   "metadata": {},
   "source": [
    "### Computation Using Torch"
   ]
  },
  {
   "cell_type": "code",
   "execution_count": 126,
   "metadata": {},
   "outputs": [],
   "source": [
    "import torch\n",
    "import torch.nn as nn"
   ]
  },
  {
   "cell_type": "code",
   "execution_count": 127,
   "metadata": {},
   "outputs": [
    {
     "name": "stdout",
     "output_type": "stream",
     "text": [
      "tensor([3.9070e-10, 8.0599e-10, 1.6627e-09, 3.4301e-09, 7.0761e-09, 1.4598e-08,\n",
      "        3.0114e-08, 6.2125e-08, 1.2816e-07, 2.6439e-07, 5.4542e-07, 1.1252e-06,\n",
      "        2.3212e-06, 4.7885e-06, 9.8784e-06, 2.0379e-05, 4.2040e-05, 8.6727e-05,\n",
      "        1.7891e-04, 3.6909e-04, 7.6142e-04, 1.5708e-03, 3.2404e-03, 6.6848e-03,\n",
      "        1.3790e-02, 2.8449e-02, 5.8689e-02, 1.2107e-01, 2.4977e-01, 5.1526e-01])\n"
     ]
    },
    {
     "data": {
      "text/plain": [
       "<matplotlib.collections.PathCollection at 0x16bb0f490>"
      ]
     },
     "execution_count": 127,
     "metadata": {},
     "output_type": "execute_result"
    },
    {
     "data": {
      "image/png": "[encoded data removed]",
      "text/plain": [
       "<Figure size 800x500 with 1 Axes>"
      ]
     },
     "metadata": {},
     "output_type": "display_data"
    }
   ],
   "source": [
    "## create an instance of the softmax activation clasa\n",
    "\n",
    "if not isinstance(x, list):\n",
    "    x = x.tolist()\n",
    "\n",
    "softfun = nn.Softmax(dim=0)\n",
    "sigmaT = softfun( torch.Tensor(x))\n",
    "\n",
    "print(sigmaT)\n",
    "\n",
    "fig, ax = plt.subplots(figsize=(8, 5))\n",
    "ax.set_xlabel('Manual Softmax')\n",
    "ax.set_ylabel('Pytorch nn.Softmax')\n",
    "ax.set_title(f'Manual vs Torch Softmax Correlate at r={np.round(np.corrcoef(sigma, sigmaT)[0, 1])}')\n",
    "#ax.set_yscale('log')\n",
    "ax.scatter(sigma, sigmaT)\n",
    "\n"
   ]
  },
  {
   "cell_type": "markdown",
   "metadata": {},
   "source": [
    "## Logarithms\n",
    "\n",
    "Log functions are used in optimization and are therefore  a very important concept to understand in Machine Learning.\n",
    "\n",
    "The $log(x)$ function is a monotonic function of $x$.  \n",
    "\n",
    "#### Meaning:\n",
    "\n",
    "- The $log(x)$ function preserves the order of $x$.\n",
    "- The $log(x)$ function increases as $x$ increases and decreases as $x$ decreases. \n",
    "- Minimizing $x$ is the same thing as minimizing $log(x)$\n",
    "\n",
    "However, $log(x)$ is not defined for $x > 0$.\n",
    "\n",
    "The $log(x)$ function is the inverse of the natural exponent function."
   ]
  },
  {
   "cell_type": "code",
   "execution_count": 128,
   "metadata": {},
   "outputs": [
    {
     "name": "stderr",
     "output_type": "stream",
     "text": [
      "/var/folders/dt/53bpx70s19ndyhz8nj3phw1h0000gn/T/ipykernel_20080/1490567673.py:2: RuntimeWarning: divide by zero encountered in log\n",
      "  log_b = np.log(b)\n"
     ]
    },
    {
     "data": {
      "text/plain": [
       "<matplotlib.legend.Legend at 0x16bb40b50>"
      ]
     },
     "execution_count": 128,
     "metadata": {},
     "output_type": "execute_result"
    },
    {
     "data": {
      "image/png": "[encoded data removed]",
      "text/plain": [
       "<Figure size 800x500 with 1 Axes>"
      ]
     },
     "metadata": {},
     "output_type": "display_data"
    }
   ],
   "source": [
    "b = np.linspace(0, 1, 200)\n",
    "log_b = np.log(b)\n",
    "\n",
    "fig, ax = plt.subplots(figsize=(8, 5))\n",
    "ax.set_title('Logarithm')\n",
    "ax.set_xlabel('x')\n",
    "ax.set_ylabel('log(x)')\n",
    "ax.plot(b, log_b, 'ks-', label='log(x)',  markerfacecolor='b')\n",
    "ax.legend()"
   ]
  },
  {
   "cell_type": "markdown",
   "metadata": {},
   "source": [
    "\n",
    "Machine Learning and thus Deep Learning often involves minimizing small quantities like probabilities. \n",
    "\n",
    "Computers suffer from precision errors when working with very small numbers.\n",
    "\n",
    "Minimizing the log output of a model is easier and computationally more efficient than minimizing the the probability output. \n",
    "\n",
    "The logarithm function better distinguishes between small and closely spaced numbers. \n",
    "\n",
    "All logs have the same properties. They only differ in slope. \n",
    "\n",
    "Natural log  ( $ln$  ) is often used because of its relation to $e$."
   ]
  },
  {
   "cell_type": "code",
   "execution_count": 129,
   "metadata": {},
   "outputs": [
    {
     "data": {
      "text/plain": [
       "<matplotlib.legend.Legend at 0x16bbb8b50>"
      ]
     },
     "execution_count": 129,
     "metadata": {},
     "output_type": "execute_result"
    },
    {
     "data": {
      "image/png": "[encoded data removed]",
      "text/plain": [
       "<Figure size 800x500 with 1 Axes>"
      ]
     },
     "metadata": {},
     "output_type": "display_data"
    }
   ],
   "source": [
    "c = np.linspace(-2, 2, 200)\n",
    "exp = np.exp(c)\n",
    "log_exp = np.log(exp)\n",
    "\n",
    "fig, ax = plt.subplots(figsize=(8, 5))\n",
    "fig.suptitle('Logarithms: The Inverse of Natural Exponents')\n",
    "ax.set_title('$log(exp(x)) = x$', fontsize=10)\n",
    "ax.set_xlabel('x')\n",
    "ax.set_ylabel('f(x)')\n",
    "ax.plot(c, exp, label='exp(x)')\n",
    "ax.plot(c, log_exp, label='log(exp(x))')\n",
    "ax.legend()"
   ]
  },
  {
   "cell_type": "code",
   "execution_count": 130,
   "metadata": {},
   "outputs": [
    {
     "name": "stderr",
     "output_type": "stream",
     "text": [
      "/var/folders/dt/53bpx70s19ndyhz8nj3phw1h0000gn/T/ipykernel_20080/2297076601.py:3: RuntimeWarning: divide by zero encountered in log\n",
      "  log_nums = np.log(nums)\n"
     ]
    },
    {
     "data": {
      "text/plain": [
       "<matplotlib.legend.Legend at 0x16bba6850>"
      ]
     },
     "execution_count": 130,
     "metadata": {},
     "output_type": "execute_result"
    },
    {
     "data": {
      "image/png": "[encoded data removed]",
      "text/plain": [
       "<Figure size 800x500 with 1 Axes>"
      ]
     },
     "metadata": {},
     "output_type": "display_data"
    }
   ],
   "source": [
    "nums = np.linspace(0, 5, 20)\n",
    "exp_nums = np.exp(nums)\n",
    "log_nums = np.log(nums)\n",
    "\n",
    "fig, ax = plt.subplots(figsize=(8, 5))\n",
    "fig.suptitle('Logarithms: The Inverse of Natural Exponents')\n",
    "ax.set_title('$log(exp(x)) = x$ and $exp(log(x))$ = x', fontsize=10)\n",
    "ax.set_xlabel('x')\n",
    "ax.set_ylabel('f(x)')\n",
    "ax.plot(nums, nums, label='unity' )\n",
    "ax.plot(nums, np.log(exp_nums), 'o', label='log(exp(x))', markersize=8)\n",
    "ax.plot(nums, np.exp(log_nums), 'x', label='log(exp(x))', markersize=8)\n",
    "ax.legend()"
   ]
  },
  {
   "cell_type": "markdown",
   "metadata": {},
   "source": [
    "## Entropy\n",
    "\n",
    "*Shannon Entropy*\n",
    "\n",
    "Entropy is a measure of uncertainty associated with a random variable. \n",
    "\n",
    "### Definition\n",
    "\n",
    "$$\n",
    " H(X) = - \\sum_{i = 1}^{n} p(x_{i}) \\log_{2}(p(x_{i}))\n",
    "$$\n",
    "\n",
    "Entropy is sum of all the the products of the probalities of events multiplied by the logs of their respective probabilites.\n",
    "\n",
    "Here, $p(x)$ represents the probability of the variable taking the value $x$, and the logarithm can be taken in different bases depending on the context:\n",
    "- Base 2 yields entropy in bits,\n",
    "- Base $e$ yields nats,\n",
    "- Base 10 yields dits or hartleys.\n",
    "\n",
    "### Interpretation\n",
    "Shannon entropy measures the expected amount of information produced by a stochastic source of data.   \n",
    "- High entropy indicate greater unpredictability and variability in the outcomes of the variable in a dataset.   \n",
    "- Low entropy means that most outcomes are certain and given a random variable it is easy to predict the probability of a given outcome. \n",
    "\n",
    "### Applications\n",
    "\n",
    "In Machine Learning, Shannon Entropy is used to evaluate decision trees and in algorithms like cross-entropy loss for classification tasks.\n",
    "- Entropy is maximal at $p(x)$ = 0.5 because at $p(x)$ = 0.5 the uncertainty about a given outcome is at it's highest.\n",
    "- Entropy is minimal at $p(x)$ = 1 and at $p(x)$ = 0\n",
    "- Entropy is minimized at $p(x)$ = 0 because this means that at $p(x)$ = 0 an event never happens.\n",
    "- Entropy is minimized at $p(x)$ = 1 because this means that at $p(x)$ = 1 an event never happens.\n",
    "\n",
    "\n",
    "## Entropy Vs Variance\n",
    "- Entropy is nonlinear and makes no assumptions about the distribution. \n",
    "- Variance depends on the validity of the mean and is therefore approprate for roughly normal data only.\n",
    "\n",
    "\n",
    "## Cross Entropy \n",
    "\n",
    "Entropy describes one probability distribution\n",
    "\n",
    "$ H(p) = - \\sum p  \\log{p}$\n",
    "\n",
    "Cross entropy ddescribes the relationship between two probability distributions.\n",
    "\n",
    "$ H(p, q) = - \\sum p  \\log{q}$\n",
    "\n",
    "Generally, in Deep Learning, events either happen or don't happen (i.e $\\longrightarrow p=0 or p=1$).  \n",
    "Cross entropy can be used to evaluate model performance by comparing the probability distribution of input data with the predictions (softmaxified logits) of the model. \n",
    "\n",
    "\n",
    "\n"
   ]
  },
  {
   "cell_type": "markdown",
   "metadata": {},
   "source": [
    "## Entropy and Cross Entropy in Python\n",
    "### Application In Numpy"
   ]
  },
  {
   "cell_type": "code",
   "execution_count": 131,
   "metadata": {},
   "outputs": [],
   "source": [
    "# import libraries\n",
    "\n",
    "import numpy as np\n",
    "import matplotlib.pyplot as plt"
   ]
  },
  {
   "cell_type": "code",
   "execution_count": 132,
   "metadata": {},
   "outputs": [
    {
     "name": "stdout",
     "output_type": "stream",
     "text": [
      "Wrong entropy: 0.34657359027997264\n"
     ]
    }
   ],
   "source": [
    "# Wrong entropy (does not sum up the log products of all probabilities)\n",
    "p = .25\n",
    "\n",
    "H = -(p* np.log(p))\n",
    "\n",
    "print(f'Wrong entropy: {H}')\n"
   ]
  },
  {
   "cell_type": "code",
   "execution_count": 133,
   "metadata": {},
   "outputs": [
    {
     "name": "stdout",
     "output_type": "stream",
     "text": [
      "Correct entropy: 0.5623351446188083\n"
     ]
    }
   ],
   "source": [
    "# Correct entropy (sums up the log products of all probabilities)\n",
    "x = [.25, .75]\n",
    "\n",
    "H = 0\n",
    "for p in x:\n",
    "    H -= p*np.log(p)\n",
    "\n",
    "print(f'Correct entropy: {H}')"
   ]
  },
  {
   "cell_type": "code",
   "execution_count": 134,
   "metadata": {},
   "outputs": [
    {
     "name": "stdout",
     "output_type": "stream",
     "text": [
      "Correct entropy: 0.5623351446188083\n"
     ]
    }
   ],
   "source": [
    "# Correct entropy explicitly written out. \n",
    "# Binary entropy (there are only two probable outcomes)\n",
    "\n",
    "\n",
    "H = -(p*np.log(p) + (1 - p)*np.log(1-p))\n",
    "print(f'Correct entropy: {H}')"
   ]
  },
  {
   "cell_type": "code",
   "execution_count": 135,
   "metadata": {},
   "outputs": [
    {
     "name": "stdout",
     "output_type": "stream",
     "text": [
      "Cross Entropy 1: 1.3862943611198906\n",
      "Cross Entropy 2: 0.916290731874155\n",
      "Cross Entropy 2: 0.6931471805599453\n",
      "Cross Entropy 2: 0.2876820724517809\n",
      "Cross Entropy 2: 0.10536051565782628\n"
     ]
    }
   ],
   "source": [
    "# notes: all probabilites must sum to 1\n",
    "\n",
    "p = [1, 0]          # sum = 1\n",
    "q1 = [0.25, 0.75]   # sum = 1\n",
    "q2 = [0.4, 0.6]     # sum = 1\n",
    "q3 = [0.5, 0.5]     # sum = 1\n",
    "q4 = [0.75, 0.25]   # sum = 1\n",
    "q5 = [0.9, 0.1]     # sum = 1\n",
    "\n",
    "\n",
    "H1 = 0\n",
    "for i in range(len(p)):\n",
    "    H1 -= p[i]*np.log(q1[i])\n",
    "\n",
    "H2 = 0\n",
    "for i in range(len(p)):\n",
    "    H2 -= p[i]*np.log(q2[i])\n",
    "\n",
    "H3 = 0\n",
    "for i in range(len(p)):\n",
    "    H3 -= p[i]*np.log(q3[i])\n",
    "\n",
    "H4 = 0\n",
    "for i in range(len(p)):\n",
    "    H4 -= p[i]*np.log(q4[i])\n",
    "\n",
    "H5 = 0\n",
    "for i in range(len(p)):\n",
    "    H5 -= p[i]*np.log(q5[i])\n",
    "\n",
    "\n",
    "print(f'Cross Entropy 1: {H1}')\n",
    "print(f'Cross Entropy 2: {H2}')\n",
    "print(f'Cross Entropy 2: {H3}')\n",
    "print(f'Cross Entropy 2: {H4}')\n",
    "print(f'Cross Entropy 2: {H5}')"
   ]
  },
  {
   "cell_type": "markdown",
   "metadata": {},
   "source": [
    "### Application In PyTorch"
   ]
  },
  {
   "cell_type": "code",
   "execution_count": 136,
   "metadata": {},
   "outputs": [
    {
     "name": "stdout",
     "output_type": "stream",
     "text": [
      "Cross Entropy 1: 1.386294\n",
      "Cross Entropy 1: 0.916291\n",
      "Cross Entropy 1: 0.693147\n",
      "Cross Entropy 1: 0.287682\n",
      "Cross Entropy 1: 0.105361\n"
     ]
    }
   ],
   "source": [
    "import torch\n",
    "import torch.nn.functional as F\n",
    "\n",
    "pt = torch.Tensor(p)\n",
    "qt1 = torch.Tensor(q1)\n",
    "qt2 = torch.Tensor(q2)\n",
    "qt3 = torch.Tensor(q3)\n",
    "qt4 = torch.Tensor(q4)\n",
    "qt5 = torch.Tensor(q5)\n",
    "\n",
    "HT1 = F.binary_cross_entropy(qt1, pt)\n",
    "HT2 = F.binary_cross_entropy(qt2, pt)\n",
    "HT3 = F.binary_cross_entropy(qt3, pt)\n",
    "HT4 = F.binary_cross_entropy(qt4, pt)\n",
    "HT5 = F.binary_cross_entropy(qt5, pt)\n",
    "\n",
    "\n",
    "print(f'Cross Entropy 1: {HT1 :2f}')\n",
    "print(f'Cross Entropy 1: {HT2 :2f}')\n",
    "print(f'Cross Entropy 1: {HT3 :2f}')\n",
    "print(f'Cross Entropy 1: {HT4 :2f}')\n",
    "print(f'Cross Entropy 1: {HT5 :2f}')"
   ]
  },
  {
   "cell_type": "markdown",
   "metadata": {},
   "source": [
    "## Argmin & Argmax"
   ]
  },
  {
   "cell_type": "markdown",
   "metadata": {},
   "source": [
    "In a set of numbers $min$ and $max$ are respectively the smallest and the largest values in the set. \n",
    "\n",
    "$min\\ \\{1, -1, 3, 0, 4, 3\\} = -1$  \n",
    "$max\\ \\{1, -1, 3, 0, 4, 3\\} = -4$  \n",
    "\n",
    "\n",
    "The terms $arg min$ and $arg max$ refer to the position of the minimum and maximum arguments in the set.  \n",
    "\n",
    "$arg \\ min\\ \\{1, -1, 3, 0, 4, 3\\} =2$  \n",
    "$arg \\ max\\ \\{1, -1, 3, 0, 4, 3\\} =5$\n",
    "\n",
    "\n",
    "In Deep Learning, argmax is used to find the positions in $x$ at which the function is maximum.  \n",
    "$z = \\arg\\max_{x} = f(x)$\n",
    "\n",
    "After applying the softmax function to convert the raw output scores (logits) into a probability distribution, the argmax function will select the index corresponding to the maximum probability. This effectively determinines which class the model believes is most likely to be the correct classification for that input."
   ]
  },
  {
   "cell_type": "code",
   "execution_count": 137,
   "metadata": {},
   "outputs": [],
   "source": [
    "import numpy as np \n",
    "import torch \n",
    "import torch.nn as nn"
   ]
  },
  {
   "cell_type": "code",
   "execution_count": 138,
   "metadata": {},
   "outputs": [
    {
     "name": "stdout",
     "output_type": "stream",
     "text": [
      "Min: 0.105361 Max: 1.386294\n",
      "Arg Min: 4.000000 Arg Max: 0.000000\n"
     ]
    }
   ],
   "source": [
    "v = [HT1, HT2, HT3, HT4, HT5]\n",
    "\n",
    "minval = np.min(v)\n",
    "maxval = np.max(v)\n",
    "\n",
    "print(f'Min: {minval :2f} Max: {maxval:2f}')\n",
    "\n",
    "minidx = np.argmin(v)\n",
    "maxidx = np.argmax(v)\n",
    "\n",
    "print(f'Arg Min: {minidx :2f} Arg Max: {maxidx :2f}')"
   ]
  },
  {
   "cell_type": "code",
   "execution_count": 139,
   "metadata": {},
   "outputs": [
    {
     "data": {
      "text/plain": [
       "tensor([0.2500, 0.7500])"
      ]
     },
     "execution_count": 139,
     "metadata": {},
     "output_type": "execute_result"
    }
   ],
   "source": [
    "type(qt1)\n",
    "qt1"
   ]
  },
  {
   "cell_type": "code",
   "execution_count": 140,
   "metadata": {},
   "outputs": [],
   "source": [
    "w = [qt1, qt2, qt3, qt4, qt5]\n",
    "\n",
    "matrix_of_products = []\n",
    "\n",
    "for i in v:\n",
    "    row = []\n",
    "    for j in w:\n",
    "        row.append( i * np.dot(j[0], j[1]))\n",
    "    matrix_of_products.append(row)"
   ]
  },
  {
   "cell_type": "code",
   "execution_count": 141,
   "metadata": {},
   "outputs": [
    {
     "name": "stdout",
     "output_type": "stream",
     "text": [
      "[[0.2599302  0.33271065 0.3465736  0.2599302  0.12476648]\n",
      " [0.17180452 0.21990979 0.22907269 0.17180452 0.08246616]\n",
      " [0.1299651  0.16635533 0.1732868  0.1299651  0.06238324]\n",
      " [0.05394039 0.0690437  0.07192052 0.05394039 0.02589139]\n",
      " [0.0197551  0.02528653 0.02634013 0.0197551  0.00948245]]\n"
     ]
    }
   ],
   "source": [
    "# apply argmin and argmax to a matrix\n",
    "M = np.array(matrix_of_products)\n",
    "print(f'{M}')\n",
    "\n",
    "# various minimima in the matrix"
   ]
  },
  {
   "cell_type": "code",
   "execution_count": 142,
   "metadata": {},
   "outputs": [
    {
     "name": "stdout",
     "output_type": "stream",
     "text": [
      "Matrix min:\n",
      "0.009482447057962418\n",
      "\n",
      "Column mins:\n",
      "[0.0197551  0.02528653 0.02634013 0.0197551  0.00948245]\n",
      "\n",
      "Row mins:\n",
      "[0.12476648 0.08246616 0.06238324 0.02589139 0.00948245]\n"
     ]
    }
   ],
   "source": [
    "\n",
    "minmtr = np.min(M)          # minimum for the whole matrix\n",
    "mincol = np.min(M, axis= 0) # minimum per row\n",
    "minrow = np.min(M, axis=1)  # minimum per column\n",
    "\n",
    "print(f'Matrix min:\\n{minmtr}\\n\\nColumn mins:\\n{mincol}\\n\\nRow mins:\\n{minrow}')"
   ]
  },
  {
   "cell_type": "code",
   "execution_count": 143,
   "metadata": {},
   "outputs": [
    {
     "name": "stdout",
     "output_type": "stream",
     "text": [
      "Matrix arg min:\n",
      "24\n",
      "\n",
      "Column arg mins:\n",
      "[4 4 4 4 4]\n",
      "\n",
      "Row arg mins:\n",
      "[4 4 4 4 4]\n"
     ]
    }
   ],
   "source": [
    "# positions of the various minimima in the matrix\n",
    "\n",
    "minidx1 = np.argmin(M)\n",
    "minidx2 = np.argmin(M, axis=0)\n",
    "minidx3 = np.argmin(M, axis=1)\n",
    "\n",
    "\n",
    "print(f'Matrix arg min:\\n{minidx1}\\n\\nColumn arg mins:\\n{minidx2}\\n\\nRow arg mins:\\n{minidx3}')"
   ]
  },
  {
   "cell_type": "code",
   "execution_count": 144,
   "metadata": {},
   "outputs": [
    {
     "name": "stdout",
     "output_type": "stream",
     "text": [
      "Min: 0.105361 Max: 1.386294\n",
      "Arg Min: 4.000000 Arg Max: 0.000000\n",
      "Min val is 0.105361 Max val is 1.386294\n"
     ]
    }
   ],
   "source": [
    "# creating a torch vector\n",
    "v = torch.Tensor(v)\n",
    "\n",
    "minval = torch.min(v)\n",
    "maxval = torch.max(v)\n",
    "\n",
    "print(f'Min: {minval :2f} Max: {maxval:2f}')\n",
    "\n",
    "minidx = torch.argmin(v)\n",
    "maxidx = torch.argmax(v)\n",
    "\n",
    "print(f'Arg Min: {minidx :2f} Arg Max: {maxidx :2f}')\n",
    "\n",
    "# convirmation \n",
    "print(f'Min val is {v[minidx] :2f} Max val is {v[maxidx] :2f}')"
   ]
  },
  {
   "cell_type": "code",
   "execution_count": 145,
   "metadata": {},
   "outputs": [
    {
     "name": "stdout",
     "output_type": "stream",
     "text": [
      "tensor([[0.2599, 0.3327, 0.3466, 0.2599, 0.1248],\n",
      "        [0.1718, 0.2199, 0.2291, 0.1718, 0.0825],\n",
      "        [0.1300, 0.1664, 0.1733, 0.1300, 0.0624],\n",
      "        [0.0539, 0.0690, 0.0719, 0.0539, 0.0259],\n",
      "        [0.0198, 0.0253, 0.0263, 0.0198, 0.0095]])\n"
     ]
    }
   ],
   "source": [
    "M = torch.Tensor(M)\n",
    "print(f'{M}')"
   ]
  },
  {
   "cell_type": "code",
   "execution_count": 146,
   "metadata": {},
   "outputs": [
    {
     "name": "stdout",
     "output_type": "stream",
     "text": [
      "Matrix min:\n",
      "0.009482447057962418\n",
      "\n",
      "Column mins:\n",
      "torch.return_types.min(\n",
      "values=tensor([0.0198, 0.0253, 0.0263, 0.0198, 0.0095]),\n",
      "indices=tensor([4, 4, 4, 4, 4]))\n",
      "\n",
      "Row mins:\n",
      "torch.return_types.min(\n",
      "values=tensor([0.1248, 0.0825, 0.0624, 0.0259, 0.0095]),\n",
      "indices=tensor([4, 4, 4, 4, 4]))\n"
     ]
    }
   ],
   "source": [
    "minmtr = torch.min(M)          # minimum for the whole matrix\n",
    "mincol = torch.min(M, axis= 0) # minimum per row\n",
    "minrow = torch.min(M, axis=1)  # minimum per column\n",
    "\n",
    "print(f'Matrix min:\\n{minmtr}\\n\\nColumn mins:\\n{mincol}\\n\\nRow mins:\\n{minrow}')"
   ]
  },
  {
   "cell_type": "markdown",
   "metadata": {},
   "source": [
    "## Mean and Variance\n",
    "\n",
    "\n",
    "### Arithmetic Mean\n",
    "\n",
    "The mean is a measure of central tendency of the distribution of values in a dataset. \n",
    "\n",
    "$$ \\bar{x} = n^{-1} \\sum_{i=1}^{n}{x_{i}}$$\n",
    "\n",
    "In this formula:\n",
    "- $x_{i}$ represents each data point.  \n",
    "- $\\bar{x}$ represents the mean.\n",
    "\n",
    "The mean is suitable for normally distributed data.  \n",
    "The mean fails to accurately capture the central tendency for datasets with multimodal and / or skewed distributuions.  \n",
    "Different measures of central tendency (i.e Mode and Median) are more ideal to  explore for non-normal distributions. \n",
    "\n",
    "\n",
    "### Variance and Deviation\n",
    "\n",
    "Variance (mean squared difference )is a measure of dispersion about the the central point od a dataset. \n",
    "\n",
    "#### Definitions and Calculations\n",
    "\n",
    "Variance is the average of the squared differences from the mean. It is calculated using the following steps:\n",
    "- Calculate the mean of the dataset.\n",
    "- Subtract the mean from each data point to find the deviation.\n",
    "- Square each deviation to eliminate negative values.\n",
    "- Average these squared deviations:\n",
    "\n",
    "$$ \\sigma^{2} = \\frac{1}{n-1} \\sum_{i=1}^{n}(x_{i} - \\bar{x})^{2}$$\n",
    "\n",
    "\n",
    "\n",
    "Variance is suitable for any distribution.  \n",
    "\n",
    "Another measure of deviation is known as \"mean absolute difference\".\n",
    "\n",
    "Mean Absolute Deviation (MAD) measures the average of the absolute differences from the mean. It is calculated by using the following steps:\n",
    "- Calculate the mean of the dataset.\n",
    "- Subtract the mean from each data point to find the deviation.\n",
    "- Take the absolute value of each deviation.\n",
    "- Average these absolute values:\n",
    "\n",
    "$$ \\sigma^{2} = \\frac{1}{n-1} \\sum_{i=1}^{n}|x_{i} - \\bar{x}| $$\n",
    "\n",
    "\n",
    "\n",
    "#### Key Differences\n",
    "\n",
    "- **Sensitivity to Outliers**: Variance is more sensitive to outliers than Mean Absolute Deviation. It gives greater weight to larger deviations because it squares them. \n",
    "- **Interpretability**: The units of Variance are squared, Mean Absolute Difference retains the same units as the original data. This makes Mean Absolute Difference easier to interpret.\n",
    "- **Mathematical Properties**: Variance is additive for independant random variables (i.e $Var(X + Y) = Var(X) + Var(Y)$ ). \n",
    "- **Usage Contexts** Variance is wideley used in inferential statistics. In contrast, MAD can be more useful where robustness against outliers is needed. \n",
    "\n",
    "\n",
    "\n",
    "### Standard Deviation\n",
    "\n",
    "Standard deviation (SD) measures the extent to which values in a dataset deviate from the mean.  \n",
    "A low standard deviation indicates that the values are close to the mean.  \n",
    "A high standard deviation signifies that the values are spread out over a wider range.  \n",
    "The standard deviation is calculated as the square root of the variance.\n",
    "\n",
    "$$ \\sigma = \\sqrt{\\sigma^{2}} = \\sqrt{\\frac{1}{n-1} \\sum_{i=1}^{n}(x_{i} - \\bar{x})^{2}}$$\n",
    "\n",
    "\n",
    "### Applications in Deep Learning\n",
    "\n",
    "Mean and Variance are the quantities used for normalization (of data and weights) and regularization. \n",
    "\n"
   ]
  },
  {
   "cell_type": "markdown",
   "metadata": {},
   "source": [
    "### Mean and Variance in Python"
   ]
  },
  {
   "cell_type": "code",
   "execution_count": 147,
   "metadata": {},
   "outputs": [],
   "source": [
    "import numpy as np "
   ]
  },
  {
   "cell_type": "code",
   "execution_count": 148,
   "metadata": {},
   "outputs": [],
   "source": [
    "# list of numbers\n",
    "x = [1, 2, 4, 6, 5, 4, 0]\n",
    "n = len(x)"
   ]
  },
  {
   "cell_type": "code",
   "execution_count": 149,
   "metadata": {},
   "outputs": [
    {
     "name": "stdout",
     "output_type": "stream",
     "text": [
      "First mean:\t3.142857142857143\n",
      "Second mean:\t3.142857142857143\n"
     ]
    }
   ],
   "source": [
    "# calculating mean\n",
    "mean1 =np.mean(x)\n",
    "mean2 = np.sum(x) / n\n",
    "\n",
    "print(f'First mean:\\t{mean1}')\n",
    "print(f'Second mean:\\t{mean2}')"
   ]
  },
  {
   "cell_type": "code",
   "execution_count": 150,
   "metadata": {},
   "outputs": [
    {
     "name": "stdout",
     "output_type": "stream",
     "text": [
      "Biased variance:\t4.122448979591836\n",
      "First variance: \t4.809523809523809\n",
      "Second variance:\t4.809523809523809\n"
     ]
    }
   ],
   "source": [
    "# calculating variance\n",
    "\n",
    "var0 = np.var(x)\n",
    "var1 = np.var(x, ddof=1)\n",
    "var2 = (1 /(n-1)) * np.sum((x-mean1)**2)\n",
    "\n",
    "print(f'Biased variance:\\t{var0}')\n",
    "print(f'First variance: \\t{var1}')\n",
    "print(f'Second variance:\\t{var2}')\n"
   ]
  },
  {
   "cell_type": "markdown",
   "metadata": {},
   "source": [
    "### Sampling and Variability\n",
    "\n",
    "\n",
    "Different samples from the same population can have different values of the same measurement. \n",
    "A single measurement may be an unreliable estimate of a population parameter. \n",
    "\n",
    "Sources of Variability:\n",
    "- Natural variation (e.g. height, weight, etc)\n",
    "- Measurement noise (e.g. scale precision, image pixelation, etc)\n",
    "- System complexity (e.g. measuring height while ignoring age)\n",
    "- Stochasticity and randomness (e.g. photons hitting a camera)\n",
    "\n",
    "\n",
    "### How to Handle Sampling Variability\n",
    "\n",
    "- Take many samples.\n",
    "\n",
    "### Why Sampling Variability is Important in Deep Learning\n",
    "\n",
    "- Deep learning models learn by examples.\n",
    "- Non-random sampling can introduce systematic biases in deep learning models. \n",
    "- Non-representative sampling causes overfitting and limits generalizability. \n",
    "\n",
    "\n",
    "### Sampling and Variability Applied in Deep Learning\n",
    "\n",
    "Deep learning models initialize with a set of random weights.\n",
    "This helps modesl to avoid overfitting. \n",
    "Sometimes it may be desired that an experiment be reproducible. \n",
    "Using a random seed can fix the generation of random values to be consistent. \n"
   ]
  },
  {
   "cell_type": "markdown",
   "metadata": {},
   "source": [
    "### Sampling and Variability in Python"
   ]
  },
  {
   "cell_type": "code",
   "execution_count": 151,
   "metadata": {},
   "outputs": [],
   "source": [
    "import random\n",
    "import numpy as np\n",
    "import matplotlib.pyplot as plt"
   ]
  },
  {
   "cell_type": "code",
   "execution_count": 152,
   "metadata": {},
   "outputs": [
    {
     "name": "stdout",
     "output_type": "stream",
     "text": [
      "Array \"x\" has 100 elements.\n",
      "Array \"x\" has a mean of 23.65\n",
      "A random sample of 10 values from array \"x\" has a sample mean of 24.1\n"
     ]
    }
   ],
   "source": [
    "# create a list of 50 random numbers of values between -50 and 50. \n",
    "random.seed(42)\n",
    "x = [random.randint(0, 50) for num in range(100)]\n",
    "print(f'Array \"x\" has {len(x)} elements.')\n",
    "\n",
    "# compute the population mean\n",
    "popmean = np.mean(x)\n",
    "print(f'Array \"x\" has a mean of {popmean}')\n",
    "\n",
    "# compute a sample mean\n",
    "sample = np.random.choice(x, size=10, replace=True)\n",
    "samplemean = np.mean(sample)\n",
    "print(f'A random sample of 10 values from array \"x\" has a sample mean of {samplemean}')"
   ]
  },
  {
   "cell_type": "markdown",
   "metadata": {},
   "source": [
    "Notice that each time the cell above is run, the population mean stays the same but the sample mean fluctuates. "
   ]
  },
  {
   "cell_type": "code",
   "execution_count": 157,
   "metadata": {},
   "outputs": [],
   "source": [
    "# computing lots of sample means\n",
    "\n",
    "# number of experiments to run\n",
    "nExpers = 10000\n",
    "\n",
    "# run the experiments!\n",
    "sample_means = np.zeros(nExpers)\n",
    "for i in range(nExpers):\n",
    "    # step 1: draw a sample\n",
    "    sample = np.random.choice(x, size=25, replace=True)\n",
    "\n",
    "    #step 2: compute its mean\n",
    "    sample_means[i] = np.mean(sample) "
   ]
  },
  {
   "cell_type": "code",
   "execution_count": 164,
   "metadata": {},
   "outputs": [
    {
     "data": {
      "text/plain": [
       "Text(0, 0.5, 'Sample Mean')"
      ]
     },
     "execution_count": 164,
     "metadata": {},
     "output_type": "execute_result"
    },
    {
     "data": {
      "image/png": "[encoded data removed]",
      "text/plain": [
       "<Figure size 800x500 with 1 Axes>"
      ]
     },
     "metadata": {},
     "output_type": "display_data"
    }
   ],
   "source": [
    "fig, ax = plt.subplots(figsize=(8, 5))\n",
    "ax.hist(sample_means, bins=50, density=True)\n",
    "ax.plot([popmean, popmean], [0, 0.15], 'm--', label='Population Mean')\n",
    "ax.legend()\n",
    "ax.set_xlabel('Count')\n",
    "ax.set_ylabel('Sample Mean')"
   ]
  },
  {
   "cell_type": "markdown",
   "metadata": {},
   "source": [
    "### Observations \n",
    "\n",
    "Increasing the sample size reduces the variation (spread) of the sample mean about the true mean. "
   ]
  },
  {
   "cell_type": "markdown",
   "metadata": {},
   "source": [
    "### Reproducible Randomness in Python"
   ]
  },
  {
   "cell_type": "markdown",
   "metadata": {},
   "source": [
    "#### Random Seed in Numpy"
   ]
  },
  {
   "cell_type": "code",
   "execution_count": 182,
   "metadata": {},
   "outputs": [
    {
     "name": "stdout",
     "output_type": "stream",
     "text": [
      "[ 0.07942844  2.19020236 -0.13489215  0.16051798  0.44269784  0.62339144]\n",
      "[-0.76296905  0.48664025 -1.3978903   0.97541119  0.88365209 -0.27844384]\n",
      "[ 1.00890349  0.39424879 -0.3363867  -0.64590646  0.80545771  0.41644284]\n",
      "[ 0.67338789 -1.12937698  2.29749209 -0.20911518  0.87889395  1.2512276 ]\n",
      "[ 0.37062442  0.77752154  0.72488974 -1.04226152  1.95600723 -1.8143227 ]\n"
     ]
    }
   ],
   "source": [
    "# new seed mechanism in numpy\n",
    "\n",
    "seed1 = np.random.RandomState(18)\n",
    "seed2 = np.random.RandomState(20251106)\n",
    "\n",
    "# random vectors \n",
    "\n",
    "randvector1 = seed1.randn(6)\n",
    "randvector2 = seed2.randn(6)\n",
    "\n",
    "randvector3 = seed1.randn(6)\n",
    "randvector4 = seed2.randn(6)\n",
    "\n",
    "randvector5 = np.random.randn(6)\n",
    "\n",
    "print(randvector1)\n",
    "print(randvector2)\n",
    "\n",
    "print(randvector3)\n",
    "print(randvector4)\n",
    "\n",
    "print(randvector5)\n",
    "\n",
    "\n",
    "\n",
    "# [ 0.07942844  2.19020236 -0.13489215  0.16051798  0.44269784  0.62339144] randvector1 stays the same\n",
    "# [-0.76296905  0.48664025 -1.3978903   0.97541119  0.88365209 -0.27844384] randvector2 stays the same\n",
    "# [ 1.00890349  0.39424879 -0.3363867  -0.64590646  0.80545771  0.41644284] randvector3 stays the same\n",
    "# [ 0.67338789 -1.12937698  2.29749209 -0.20911518  0.87889395  1.2512276 ] randvector4 stays the same\n",
    "# randvector5 is not seeded and so it will always change"
   ]
  },
  {
   "cell_type": "markdown",
   "metadata": {},
   "source": [
    "### Random Seed in Pytorch"
   ]
  },
  {
   "cell_type": "code",
   "execution_count": 185,
   "metadata": {},
   "outputs": [
    {
     "data": {
      "text/plain": [
       "tensor([ 0.1609, -0.2813,  0.6301,  0.2880,  0.0144,  0.6859,  2.9217, -0.7419])"
      ]
     },
     "execution_count": 185,
     "metadata": {},
     "output_type": "execute_result"
    }
   ],
   "source": [
    "# Generates a random number array\n",
    "torch.randn(8)"
   ]
  },
  {
   "cell_type": "code",
   "execution_count": 193,
   "metadata": {},
   "outputs": [
    {
     "name": "stdout",
     "output_type": "stream",
     "text": [
      "Unchanging torch array:\n",
      "tensor([-1.4135,  0.2336,  0.0340,  0.3499, -0.0145, -0.6124])\n",
      "\n",
      "Unseeded numpy array:\n",
      "[-0.94280536  0.71857972  0.58865906  0.5126198  -0.85452858 -2.32890935]\n"
     ]
    }
   ],
   "source": [
    "torch.manual_seed(17)\n",
    "torchrandvector = torch.randn(6)\n",
    "print(f'Unchanging Torch array:\\n{torchrandvector}', end='\\n\\n')\n",
    "\n",
    "# torch's seed does not apply to numpy\n",
    "nprandvector = np.random.randn(6)\n",
    "print(f'Unseeded Numpy array:\\n{nprandvector}')"
   ]
  },
  {
   "cell_type": "markdown",
   "metadata": {},
   "source": [
    "## The T-test\n"
   ]
  },
  {
   "cell_type": "markdown",
   "metadata": {},
   "source": [
    "### The general Idea of a t-test\n",
    "\n",
    "The t-test is a away to find out if predictions from one model are significantly better than predictions from another.   \n",
    "The null hypothesis $H_{0}$ is that the models in comparison perform equally well or that there is not signficant difference in the accuracy of any of the models.   \n",
    "The alternative hypothesis $H_{A}$ is that one model does infact perform better than another.   \n",
    "It is possible to formulate an alternative hypothesis by comparing a model against some arbitary threshold value (e.g. 50% accuracy).\n",
    "\n",
    "### The t-test Formula\n",
    "\n",
    "$$\n",
    "t_{k} = \\frac{\\bar{x} = \\bar{y}}{s / \\sqrt{n}}\n",
    "$$\n",
    "\n",
    "The t-test result or t-score is equivalent to the difference of the means divided by the respective standard deviations.  \n",
    "The t-value is evaluated against the distribution of t-values expected under the null hypothesis.   \n",
    "The t-value distribution is not computed but analytically derived using a formula.   \n",
    "Under the null hypothesis any differences in performances accuracy between two models is seen as relating to sampling variability.  \n",
    "The null hypothesis is disproven if a given a t-score shows that the accuracy of a model's performance is above a specific threshold of probability.\n",
    "\n"
   ]
  },
  {
   "cell_type": "markdown",
   "metadata": {},
   "source": [
    "### Computing t-tests and p-values in Python"
   ]
  },
  {
   "cell_type": "code",
   "execution_count": 1,
   "metadata": {},
   "outputs": [],
   "source": [
    "import numpy as np\n",
    "import matplotlib.pyplot as plt\n",
    "import scipy.stats as stats"
   ]
  },
  {
   "cell_type": "code",
   "execution_count": 8,
   "metadata": {},
   "outputs": [],
   "source": [
    "# parameters\n",
    "\n",
    "n1 = 30\n",
    "n2 = 40\n",
    "mu1 = 1\n",
    "mu2 = 2"
   ]
  },
  {
   "cell_type": "code",
   "execution_count": 11,
   "metadata": {},
   "outputs": [],
   "source": [
    "# data \n",
    "\n",
    "data1 = mu1 + np.random.randn(n1)\n",
    "data2 = mu2 + np.random.randn(n2)"
   ]
  },
  {
   "cell_type": "code",
   "execution_count": 13,
   "metadata": {},
   "outputs": [
    {
     "data": {
      "text/plain": [
       "[<matplotlib.axis.XTick at 0x16a5da5d0>,\n",
       " <matplotlib.axis.XTick at 0x16a553d50>]"
      ]
     },
     "execution_count": 13,
     "metadata": {},
     "output_type": "execute_result"
    },
    {
     "data": {
      "image/png": "[encoded data removed]",
      "text/plain": [
       "<Figure size 800x500 with 1 Axes>"
      ]
     },
     "metadata": {},
     "output_type": "display_data"
    }
   ],
   "source": [
    "# plots \n",
    "\n",
    "fig, ax = plt.subplots(figsize=(8, 5))\n",
    "ax.plot(np.zeros(n1), data1, 'ro', markerfacecolor='w', markersize=8)\n",
    "ax.plot(np.ones(n2), data2, 'bs', markerfacecolor='w', markersize=8)\n",
    "ax.set_xlim([-1, 2])\n",
    "ax.set_xticks([0, 1], labels=['Group 1', 'Group 2'])\n"
   ]
  },
  {
   "cell_type": "code",
   "execution_count": 20,
   "metadata": {},
   "outputs": [
    {
     "name": "stdout",
     "output_type": "stream",
     "text": [
      "T-score -5.8504\n",
      "P-value 0.0000\n"
     ]
    }
   ],
   "source": [
    "# t-test via stats package\n",
    "\n",
    "t, p = stats.ttest_ind(data1, data2)\n",
    "\n",
    "print(f'T-score {t:.4f}')\n",
    "print(f'P-value {p:.4f}')"
   ]
  },
  {
   "cell_type": "code",
   "execution_count": 21,
   "metadata": {},
   "outputs": [
    {
     "data": {
      "text/plain": [
       "Text(0.5, 1.0, 't = -5.85, p=0.000')"
      ]
     },
     "execution_count": 21,
     "metadata": {},
     "output_type": "execute_result"
    },
    {
     "data": {
      "image/png": "[encoded data removed]",
      "text/plain": [
       "<Figure size 800x500 with 1 Axes>"
      ]
     },
     "metadata": {},
     "output_type": "display_data"
    }
   ],
   "source": [
    "fig, ax = plt.subplots(figsize=(8, 5))\n",
    "ax.plot(0. + np.random.randn(n1)/ 15, data1, 'ro', markerfacecolor='w', markersize=9)\n",
    "ax.plot(1. + np.random.randn(n2)/ 15, data2, 'bs', markerfacecolor='w', markersize=9)\n",
    "ax.set_xlim([-1, 2])\n",
    "ax.set_xticks([0, 1], labels=['Group 1', 'Group 2'])\n",
    "\n",
    "ax.set_title(f't = {t:.2f}, p={p:.3f}')"
   ]
  },
  {
   "cell_type": "markdown",
   "metadata": {},
   "source": [
    "## Derivatives\n",
    "\n",
    "The derivative of a function is the rate of change (slope) of a function.\n",
    "\n",
    "\n",
    "### Derivative of Polynomical\n",
    "\n",
    "$$\\frac{d}{dx}(ax^{n}) = nax^{n -1}$$\n",
    "\n",
    "### Polynomial Derivative Example\n",
    "\n",
    "$f(x) = x^{2}$  \n",
    "$f(x)' = 2x$\n"
   ]
  },
  {
   "cell_type": "code",
   "execution_count": null,
   "metadata": {},
   "outputs": [],
   "source": [
    "import numpy as np\n",
    "import matplotlib.pyplot as plt"
   ]
  },
  {
   "cell_type": "code",
   "execution_count": 31,
   "metadata": {},
   "outputs": [
    {
     "data": {
      "text/plain": [
       "<matplotlib.legend.Legend at 0x1383bd950>"
      ]
     },
     "execution_count": 31,
     "metadata": {},
     "output_type": "execute_result"
    },
    {
     "data": {
      "image/png": "[encoded data removed]",
      "text/plain": [
       "<Figure size 800x500 with 1 Axes>"
      ]
     },
     "metadata": {},
     "output_type": "display_data"
    }
   ],
   "source": [
    "x =np.linspace(-5, 5, 100)\n",
    "\n",
    "fig, ax = plt.subplots(figsize=(8, 5))\n",
    "ax.plot(x, x**2, label='$f(x) = x^2$')\n",
    "ax.plot(x, 2 * x, label='$f(x) = 2x$')\n",
    "ax.set_title('Derivative of a Polynomial')\n",
    "ax.legend()"
   ]
  },
  {
   "cell_type": "markdown",
   "metadata": {},
   "source": [
    "### Derivatives in Deep Learning\n",
    "\n",
    "Derivatives point in the direction of increases and decreases in a mathematical function. \n",
    "\n",
    "In deep learning the goal (e.g. classification) is represented as an error function. The best solution is the point with the smallest error.  \n",
    "The derivatives are used by neural networks to calculate how to change weights in order to minimize error.   \n",
    "This process is referred to as gradient descent. "
   ]
  },
  {
   "cell_type": "code",
   "execution_count": 33,
   "metadata": {},
   "outputs": [],
   "source": [
    "import sympy as sym\n",
    "import sympy.plotting.plot as symplot"
   ]
  },
  {
   "cell_type": "code",
   "execution_count": 35,
   "metadata": {},
   "outputs": [
    {
     "name": "stdout",
     "output_type": "stream",
     "text": [
      "$f(x) = x^2$ = 2*x**2\n",
      "$f(x) = 2x$ = 4*x\n"
     ]
    }
   ],
   "source": [
    "# creating a symbolic variable\n",
    "x = sym.symbols('x')\n",
    "\n",
    "# create a function\n",
    "fx = 2*x**2\n",
    "\n",
    "# compute its derivative\n",
    "df = sym.diff(fx, x)\n",
    "\n",
    "\n",
    "# print \n",
    "print(f'$f(x) = x^2$ = {fx}')\n",
    "print(f'$f(x) = 2x$ = {df}')\n"
   ]
  },
  {
   "cell_type": "code",
   "execution_count": 37,
   "metadata": {},
   "outputs": [
    {
     "data": {
      "image/png": "[encoded data removed]",
      "text/plain": [
       "<Figure size 640x480 with 1 Axes>"
      ]
     },
     "metadata": {},
     "output_type": "display_data"
    },
    {
     "data": {
      "text/plain": [
       "<sympy.plotting.backends.matplotlibbackend.matplotlib.MatplotlibBackend at 0x13835cc10>"
      ]
     },
     "execution_count": 37,
     "metadata": {},
     "output_type": "execute_result"
    }
   ],
   "source": [
    "symplot(fx, df, range=(x, -4, 4),  title=\"The Function $f(x) = 2x^2$ vs It's Derivative $f(x)' = 4x$\")"
   ]
  },
  {
   "cell_type": "markdown",
   "metadata": {},
   "source": [
    "### The Sigmoid and ReLU functions"
   ]
  },
  {
   "cell_type": "code",
   "execution_count": null,
   "metadata": {},
   "outputs": [
    {
     "data": {
      "image/png": "[encoded data removed]",
      "text/plain": [
       "<Figure size 640x480 with 1 Axes>"
      ]
     },
     "metadata": {},
     "output_type": "display_data"
    }
   ],
   "source": [
    "# repeating with relu and sigmoid\n",
    "\n",
    "# create symbolic functions\n",
    "relu = sym.Max(0, x)\n",
    "sigmoid = 1 / (1 + sym.exp(-x))\n",
    "\n",
    "# graph the functions\n",
    "p = symplot(relu, (x, -4, 1), label='ReLU', show=False)\n",
    "p.extend(symplot(sigmoid, (x, -4, 4), label='Sigmoid', show=False))\n",
    "\n",
    "p.legend = True\n",
    "p.title = ('The Sigmoid and ReLU Functions')\n",
    "\n",
    "p.show()\n"
   ]
  },
  {
   "cell_type": "markdown",
   "metadata": {},
   "source": [
    "### Derivatives of the Sigmoid and ReLU functions"
   ]
  },
  {
   "cell_type": "code",
   "execution_count": 45,
   "metadata": {},
   "outputs": [
    {
     "data": {
      "image/png": "[encoded data removed]",
      "text/plain": [
       "<Figure size 640x480 with 1 Axes>"
      ]
     },
     "metadata": {},
     "output_type": "display_data"
    }
   ],
   "source": [
    "p = symplot(sym.diff(relu), (x, -4, 4), label='df(ReLU)', show=False)\n",
    "p.extend(symplot(sym.diff(sigmoid), (x, -4, 4), label='df(Sigmoid)', show=False))\n",
    "\n",
    "p.legend = True\n",
    "p.title = ('Derivatives of The Sigmoid and ReLU Functions')\n",
    "\n",
    "p.show()"
   ]
  }
 ],
 "metadata": {
  "kernelspec": {
   "display_name": "torch-env",
   "language": "python",
   "name": "python3"
  },
  "language_info": {
   "codemirror_mode": {
    "name": "ipython",
    "version": 3
   },
   "file_extension": ".py",
   "mimetype": "text/x-python",
   "name": "python",
   "nbconvert_exporter": "python",
   "pygments_lexer": "ipython3",
   "version": "3.11.9"
  }
 },
 "nbformat": 4,
 "nbformat_minor": 2
}
